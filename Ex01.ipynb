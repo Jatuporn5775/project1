{
  "nbformat": 4,
  "nbformat_minor": 0,
  "metadata": {
    "colab": {
      "provenance": [],
      "authorship_tag": "ABX9TyNVdUkGHKXxXVLY4U+IczEs",
      "include_colab_link": true
    },
    "kernelspec": {
      "name": "python3",
      "display_name": "Python 3"
    },
    "language_info": {
      "name": "python"
    }
  },
  "cells": [
    {
      "cell_type": "markdown",
      "metadata": {
        "id": "view-in-github",
        "colab_type": "text"
      },
      "source": [
        "<a href=\"https://colab.research.google.com/github/Jatuporn5775/project1/blob/main/Ex01.ipynb\" target=\"_parent\"><img src=\"https://colab.research.google.com/assets/colab-badge.svg\" alt=\"Open In Colab\"/></a>"
      ]
    },
    {
      "cell_type": "code",
      "execution_count": null,
      "metadata": {
        "id": "oKWr0ZbATiWw"
      },
      "outputs": [],
      "source": [
        "# อบรม python วันที่ 27 พ.ย. 67\n",
        "# 644245035 นางสาวจตุพร สุภสร หมู่เรียน 64/37"
      ]
    },
    {
      "cell_type": "code",
      "source": [
        "# ทดสอบรับค่า input\n",
        "name=input (\"กรุณากรอกชื่อ :\")\n",
        "print(\"ยินดีต้อนรับคุณ\" +name)"
      ],
      "metadata": {
        "colab": {
          "base_uri": "https://localhost:8080/"
        },
        "id": "fTcSW2oVUMXP",
        "outputId": "339eafbd-5481-4861-80bf-008bf5c0189c"
      },
      "execution_count": 1,
      "outputs": [
        {
          "output_type": "stream",
          "name": "stdout",
          "text": [
            "กรุณากรอกชื่อ :นางสาวจตุพร สุภสร\n",
            "ยินดีต้อนรับคุณนางสาวจตุพร สุภสร\n"
          ]
        }
      ]
    },
    {
      "cell_type": "code",
      "source": [
        "# ทดสอบรับค่า มาเพื่อทำการคำนวณ\n",
        "num1=int (input('ตัวเลขแรก : ' ))\n",
        "num2=int(input('ตัวเลขที่สอง : ' ))\n",
        "total=num1+num2\n",
        "print(\"ผลการบวก เท่ากับ\" + str(total))"
      ],
      "metadata": {
        "colab": {
          "base_uri": "https://localhost:8080/"
        },
        "id": "Aw7nnEf6VFnH",
        "outputId": "4272b840-5944-487f-eedc-32eb8ab6c1b7"
      },
      "execution_count": 4,
      "outputs": [
        {
          "output_type": "stream",
          "name": "stdout",
          "text": [
            "ตัวเลขแรก : 5\n",
            "ตัวเลขที่สอง : 5\n",
            "ผลการบวก เท่ากับ10\n"
          ]
        }
      ]
    },
    {
      "cell_type": "code",
      "source": [
        "W= float(input(\"กรุณากรอกค่าน้ำหนัก กิโลกรัม : \"))\n",
        "H= float(input(\"กรุณากรอกค่าส่วนสูง ซม. : \"))\n",
        "BMI = W/((H/100)**2)\n",
        "print(\"ค่า BMI ของคุณ = \"+str(BMI))"
      ],
      "metadata": {
        "colab": {
          "base_uri": "https://localhost:8080/"
        },
        "id": "dEbyCIN9bcsx",
        "outputId": "c09653ec-1fc5-4b10-dc76-b403f4625ff9"
      },
      "execution_count": 6,
      "outputs": [
        {
          "output_type": "stream",
          "name": "stdout",
          "text": [
            "กรุณากรอกค่าน้ำหนัก กิโลกรัม : 44\n",
            "กรุณากรอกค่าส่วนสูง ซม. : 166\n",
            "ค่า BMI ของคุณ = 15.967484395412978\n"
          ]
        }
      ]
    },
    {
      "cell_type": "code",
      "source": [],
      "metadata": {
        "id": "8-2G_yv8gMnJ"
      },
      "execution_count": null,
      "outputs": []
    }
  ]
}